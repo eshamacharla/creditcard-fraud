{
  "nbformat": 4,
  "nbformat_minor": 0,
  "metadata": {
    "colab": {
      "provenance": []
    },
    "kernelspec": {
      "name": "python3",
      "display_name": "Python 3"
    },
    "language_info": {
      "name": "python"
    }
  },
  "cells": [
    {
      "cell_type": "markdown",
      "metadata": {
        "id": "TDnoEQTWStTz"
      },
      "source": [
        "Importing the Dependencies"
      ]
    },
    {
      "cell_type": "code",
      "metadata": {
        "id": "hlNfrSC1PGfZ"
      },
      "source": [
        "import numpy as np\n",
        "import pandas as pd\n",
        "from sklearn.model_selection import train_test_split\n",
        "from sklearn.linear_model import LogisticRegression\n",
        "from sklearn.metrics import accuracy_score\n",
        "import matplotlib.pyplot as plt\n"
      ],
      "execution_count": null,
      "outputs": []
    },
    {
      "cell_type": "code",
      "metadata": {
        "id": "W0CTsNioTKnJ"
      },
      "source": [
        "# loading the dataset to a Pandas DataFrame\n",
        "credit_card_data = pd.read_csv('/content/creditcardfraud.csv')"
      ],
      "execution_count": null,
      "outputs": []
    },
    {
      "cell_type": "code",
      "metadata": {
        "colab": {
          "base_uri": "https://localhost:8080/",
          "height": 218
        },
        "id": "o_iMfyHsTa6s",
        "outputId": "318bdb4d-9f20-4789-c6e6-9b2de1aad091"
      },
      "source": [
        "# first 5 rows of the dataset\n",
        "credit_card_data.head()"
      ],
      "execution_count": null,
      "outputs": [
        {
          "output_type": "execute_result",
          "data": {
            "text/html": [
              "<div>\n",
              "<style scoped>\n",
              "    .dataframe tbody tr th:only-of-type {\n",
              "        vertical-align: middle;\n",
              "    }\n",
              "\n",
              "    .dataframe tbody tr th {\n",
              "        vertical-align: top;\n",
              "    }\n",
              "\n",
              "    .dataframe thead th {\n",
              "        text-align: right;\n",
              "    }\n",
              "</style>\n",
              "<table border=\"1\" class=\"dataframe\">\n",
              "  <thead>\n",
              "    <tr style=\"text-align: right;\">\n",
              "      <th></th>\n",
              "      <th>Time</th>\n",
              "      <th>V1</th>\n",
              "      <th>V2</th>\n",
              "      <th>V3</th>\n",
              "      <th>V4</th>\n",
              "      <th>V5</th>\n",
              "      <th>V6</th>\n",
              "      <th>V7</th>\n",
              "      <th>V8</th>\n",
              "      <th>V9</th>\n",
              "      <th>V10</th>\n",
              "      <th>V11</th>\n",
              "      <th>V12</th>\n",
              "      <th>V13</th>\n",
              "      <th>V14</th>\n",
              "      <th>V15</th>\n",
              "      <th>V16</th>\n",
              "      <th>V17</th>\n",
              "      <th>V18</th>\n",
              "      <th>V19</th>\n",
              "      <th>V20</th>\n",
              "      <th>V21</th>\n",
              "      <th>V22</th>\n",
              "      <th>V23</th>\n",
              "      <th>V24</th>\n",
              "      <th>V25</th>\n",
              "      <th>V26</th>\n",
              "      <th>V27</th>\n",
              "      <th>V28</th>\n",
              "      <th>Amount</th>\n",
              "      <th>Class</th>\n",
              "    </tr>\n",
              "  </thead>\n",
              "  <tbody>\n",
              "    <tr>\n",
              "      <th>0</th>\n",
              "      <td>0.0</td>\n",
              "      <td>-1.359807</td>\n",
              "      <td>-0.072781</td>\n",
              "      <td>2.536347</td>\n",
              "      <td>1.378155</td>\n",
              "      <td>-0.338321</td>\n",
              "      <td>0.462388</td>\n",
              "      <td>0.239599</td>\n",
              "      <td>0.098698</td>\n",
              "      <td>0.363787</td>\n",
              "      <td>0.090794</td>\n",
              "      <td>-0.551600</td>\n",
              "      <td>-0.617801</td>\n",
              "      <td>-0.991390</td>\n",
              "      <td>-0.311169</td>\n",
              "      <td>1.468177</td>\n",
              "      <td>-0.470401</td>\n",
              "      <td>0.207971</td>\n",
              "      <td>0.025791</td>\n",
              "      <td>0.403993</td>\n",
              "      <td>0.251412</td>\n",
              "      <td>-0.018307</td>\n",
              "      <td>0.277838</td>\n",
              "      <td>-0.110474</td>\n",
              "      <td>0.066928</td>\n",
              "      <td>0.128539</td>\n",
              "      <td>-0.189115</td>\n",
              "      <td>0.133558</td>\n",
              "      <td>-0.021053</td>\n",
              "      <td>149.62</td>\n",
              "      <td>0</td>\n",
              "    </tr>\n",
              "    <tr>\n",
              "      <th>1</th>\n",
              "      <td>0.0</td>\n",
              "      <td>1.191857</td>\n",
              "      <td>0.266151</td>\n",
              "      <td>0.166480</td>\n",
              "      <td>0.448154</td>\n",
              "      <td>0.060018</td>\n",
              "      <td>-0.082361</td>\n",
              "      <td>-0.078803</td>\n",
              "      <td>0.085102</td>\n",
              "      <td>-0.255425</td>\n",
              "      <td>-0.166974</td>\n",
              "      <td>1.612727</td>\n",
              "      <td>1.065235</td>\n",
              "      <td>0.489095</td>\n",
              "      <td>-0.143772</td>\n",
              "      <td>0.635558</td>\n",
              "      <td>0.463917</td>\n",
              "      <td>-0.114805</td>\n",
              "      <td>-0.183361</td>\n",
              "      <td>-0.145783</td>\n",
              "      <td>-0.069083</td>\n",
              "      <td>-0.225775</td>\n",
              "      <td>-0.638672</td>\n",
              "      <td>0.101288</td>\n",
              "      <td>-0.339846</td>\n",
              "      <td>0.167170</td>\n",
              "      <td>0.125895</td>\n",
              "      <td>-0.008983</td>\n",
              "      <td>0.014724</td>\n",
              "      <td>2.69</td>\n",
              "      <td>0</td>\n",
              "    </tr>\n",
              "    <tr>\n",
              "      <th>2</th>\n",
              "      <td>1.0</td>\n",
              "      <td>-1.358354</td>\n",
              "      <td>-1.340163</td>\n",
              "      <td>1.773209</td>\n",
              "      <td>0.379780</td>\n",
              "      <td>-0.503198</td>\n",
              "      <td>1.800499</td>\n",
              "      <td>0.791461</td>\n",
              "      <td>0.247676</td>\n",
              "      <td>-1.514654</td>\n",
              "      <td>0.207643</td>\n",
              "      <td>0.624501</td>\n",
              "      <td>0.066084</td>\n",
              "      <td>0.717293</td>\n",
              "      <td>-0.165946</td>\n",
              "      <td>2.345865</td>\n",
              "      <td>-2.890083</td>\n",
              "      <td>1.109969</td>\n",
              "      <td>-0.121359</td>\n",
              "      <td>-2.261857</td>\n",
              "      <td>0.524980</td>\n",
              "      <td>0.247998</td>\n",
              "      <td>0.771679</td>\n",
              "      <td>0.909412</td>\n",
              "      <td>-0.689281</td>\n",
              "      <td>-0.327642</td>\n",
              "      <td>-0.139097</td>\n",
              "      <td>-0.055353</td>\n",
              "      <td>-0.059752</td>\n",
              "      <td>378.66</td>\n",
              "      <td>0</td>\n",
              "    </tr>\n",
              "    <tr>\n",
              "      <th>3</th>\n",
              "      <td>1.0</td>\n",
              "      <td>-0.966272</td>\n",
              "      <td>-0.185226</td>\n",
              "      <td>1.792993</td>\n",
              "      <td>-0.863291</td>\n",
              "      <td>-0.010309</td>\n",
              "      <td>1.247203</td>\n",
              "      <td>0.237609</td>\n",
              "      <td>0.377436</td>\n",
              "      <td>-1.387024</td>\n",
              "      <td>-0.054952</td>\n",
              "      <td>-0.226487</td>\n",
              "      <td>0.178228</td>\n",
              "      <td>0.507757</td>\n",
              "      <td>-0.287924</td>\n",
              "      <td>-0.631418</td>\n",
              "      <td>-1.059647</td>\n",
              "      <td>-0.684093</td>\n",
              "      <td>1.965775</td>\n",
              "      <td>-1.232622</td>\n",
              "      <td>-0.208038</td>\n",
              "      <td>-0.108300</td>\n",
              "      <td>0.005274</td>\n",
              "      <td>-0.190321</td>\n",
              "      <td>-1.175575</td>\n",
              "      <td>0.647376</td>\n",
              "      <td>-0.221929</td>\n",
              "      <td>0.062723</td>\n",
              "      <td>0.061458</td>\n",
              "      <td>123.50</td>\n",
              "      <td>0</td>\n",
              "    </tr>\n",
              "    <tr>\n",
              "      <th>4</th>\n",
              "      <td>2.0</td>\n",
              "      <td>-1.158233</td>\n",
              "      <td>0.877737</td>\n",
              "      <td>1.548718</td>\n",
              "      <td>0.403034</td>\n",
              "      <td>-0.407193</td>\n",
              "      <td>0.095921</td>\n",
              "      <td>0.592941</td>\n",
              "      <td>-0.270533</td>\n",
              "      <td>0.817739</td>\n",
              "      <td>0.753074</td>\n",
              "      <td>-0.822843</td>\n",
              "      <td>0.538196</td>\n",
              "      <td>1.345852</td>\n",
              "      <td>-1.119670</td>\n",
              "      <td>0.175121</td>\n",
              "      <td>-0.451449</td>\n",
              "      <td>-0.237033</td>\n",
              "      <td>-0.038195</td>\n",
              "      <td>0.803487</td>\n",
              "      <td>0.408542</td>\n",
              "      <td>-0.009431</td>\n",
              "      <td>0.798278</td>\n",
              "      <td>-0.137458</td>\n",
              "      <td>0.141267</td>\n",
              "      <td>-0.206010</td>\n",
              "      <td>0.502292</td>\n",
              "      <td>0.219422</td>\n",
              "      <td>0.215153</td>\n",
              "      <td>69.99</td>\n",
              "      <td>0</td>\n",
              "    </tr>\n",
              "  </tbody>\n",
              "</table>\n",
              "</div>"
            ],
            "text/plain": [
              "   Time        V1        V2        V3  ...       V27       V28  Amount  Class\n",
              "0   0.0 -1.359807 -0.072781  2.536347  ...  0.133558 -0.021053  149.62      0\n",
              "1   0.0  1.191857  0.266151  0.166480  ... -0.008983  0.014724    2.69      0\n",
              "2   1.0 -1.358354 -1.340163  1.773209  ... -0.055353 -0.059752  378.66      0\n",
              "3   1.0 -0.966272 -0.185226  1.792993  ...  0.062723  0.061458  123.50      0\n",
              "4   2.0 -1.158233  0.877737  1.548718  ...  0.219422  0.215153   69.99      0\n",
              "\n",
              "[5 rows x 31 columns]"
            ]
          },
          "metadata": {
            "tags": []
          },
          "execution_count": 4
        }
      ]
    },
    {
      "cell_type": "code",
      "metadata": {
        "colab": {
          "base_uri": "https://localhost:8080/",
          "height": 300
        },
        "id": "iWCP6YJjThIM",
        "outputId": "378705dc-a318-4b97-8d89-f2fc5425fb5b"
      },
      "source": [
        "credit_card_data.tail()"
      ],
      "execution_count": null,
      "outputs": [
        {
          "output_type": "execute_result",
          "data": {
            "text/plain": [
              "       Time        V1        V2        V3        V4        V5        V6  \\\n",
              "8761  11926  0.224210  0.730182  0.536568 -0.297833  0.529837  0.008517   \n",
              "8762  11928 -0.777982  1.247878  1.106014  1.421211 -0.087339  0.044765   \n",
              "8763  11930  1.297487 -0.202241  0.043946  0.094497 -0.057158  0.099204   \n",
              "8764  11932 -1.093189  0.157400  2.048652 -0.860421  0.235073 -0.167494   \n",
              "8765  11932 -2.594443 -0.991587  1.957468  1.705635 -0.182961  0.095771   \n",
              "\n",
              "            V7        V8        V9  ...       V21       V22       V23  \\\n",
              "8761 -0.153646 -0.778260  1.143360  ...  0.311157 -1.489044 -0.207238   \n",
              "8762  0.039896  0.547840  0.752861  ... -0.144915 -0.084414 -0.150048   \n",
              "8763 -0.280711 -0.127515  2.168290  ... -0.338119 -0.551489 -0.248950   \n",
              "8764  0.636240 -0.205278  1.507648  ... -0.255789 -0.233994 -0.451409   \n",
              "8765 -0.281082  0.642498  1.001348  ...  0.353258  0.501825  0.292150   \n",
              "\n",
              "           V24       V25       V26       V27       V28  Amount  Class  \n",
              "8761 -0.991151  0.504758  0.005972  0.092759  0.213102    1.99    0.0  \n",
              "8762 -0.063168 -0.039265 -0.283939  0.250660  0.110168   12.99    0.0  \n",
              "8763 -0.964184  0.592470  1.156197 -0.102371 -0.014854   39.98    0.0  \n",
              "8764  0.018927  0.377757  0.958870 -0.297683 -0.246392   80.50    0.0  \n",
              "8765  0.060489  0.453079 -0.142001  0.183807 -0.143522     NaN    NaN  \n",
              "\n",
              "[5 rows x 31 columns]"
            ],
            "text/html": [
              "\n",
              "  <div id=\"df-20692095-c92f-4c0d-93c8-af74699ab1f9\">\n",
              "    <div class=\"colab-df-container\">\n",
              "      <div>\n",
              "<style scoped>\n",
              "    .dataframe tbody tr th:only-of-type {\n",
              "        vertical-align: middle;\n",
              "    }\n",
              "\n",
              "    .dataframe tbody tr th {\n",
              "        vertical-align: top;\n",
              "    }\n",
              "\n",
              "    .dataframe thead th {\n",
              "        text-align: right;\n",
              "    }\n",
              "</style>\n",
              "<table border=\"1\" class=\"dataframe\">\n",
              "  <thead>\n",
              "    <tr style=\"text-align: right;\">\n",
              "      <th></th>\n",
              "      <th>Time</th>\n",
              "      <th>V1</th>\n",
              "      <th>V2</th>\n",
              "      <th>V3</th>\n",
              "      <th>V4</th>\n",
              "      <th>V5</th>\n",
              "      <th>V6</th>\n",
              "      <th>V7</th>\n",
              "      <th>V8</th>\n",
              "      <th>V9</th>\n",
              "      <th>...</th>\n",
              "      <th>V21</th>\n",
              "      <th>V22</th>\n",
              "      <th>V23</th>\n",
              "      <th>V24</th>\n",
              "      <th>V25</th>\n",
              "      <th>V26</th>\n",
              "      <th>V27</th>\n",
              "      <th>V28</th>\n",
              "      <th>Amount</th>\n",
              "      <th>Class</th>\n",
              "    </tr>\n",
              "  </thead>\n",
              "  <tbody>\n",
              "    <tr>\n",
              "      <th>8761</th>\n",
              "      <td>11926</td>\n",
              "      <td>0.224210</td>\n",
              "      <td>0.730182</td>\n",
              "      <td>0.536568</td>\n",
              "      <td>-0.297833</td>\n",
              "      <td>0.529837</td>\n",
              "      <td>0.008517</td>\n",
              "      <td>-0.153646</td>\n",
              "      <td>-0.778260</td>\n",
              "      <td>1.143360</td>\n",
              "      <td>...</td>\n",
              "      <td>0.311157</td>\n",
              "      <td>-1.489044</td>\n",
              "      <td>-0.207238</td>\n",
              "      <td>-0.991151</td>\n",
              "      <td>0.504758</td>\n",
              "      <td>0.005972</td>\n",
              "      <td>0.092759</td>\n",
              "      <td>0.213102</td>\n",
              "      <td>1.99</td>\n",
              "      <td>0.0</td>\n",
              "    </tr>\n",
              "    <tr>\n",
              "      <th>8762</th>\n",
              "      <td>11928</td>\n",
              "      <td>-0.777982</td>\n",
              "      <td>1.247878</td>\n",
              "      <td>1.106014</td>\n",
              "      <td>1.421211</td>\n",
              "      <td>-0.087339</td>\n",
              "      <td>0.044765</td>\n",
              "      <td>0.039896</td>\n",
              "      <td>0.547840</td>\n",
              "      <td>0.752861</td>\n",
              "      <td>...</td>\n",
              "      <td>-0.144915</td>\n",
              "      <td>-0.084414</td>\n",
              "      <td>-0.150048</td>\n",
              "      <td>-0.063168</td>\n",
              "      <td>-0.039265</td>\n",
              "      <td>-0.283939</td>\n",
              "      <td>0.250660</td>\n",
              "      <td>0.110168</td>\n",
              "      <td>12.99</td>\n",
              "      <td>0.0</td>\n",
              "    </tr>\n",
              "    <tr>\n",
              "      <th>8763</th>\n",
              "      <td>11930</td>\n",
              "      <td>1.297487</td>\n",
              "      <td>-0.202241</td>\n",
              "      <td>0.043946</td>\n",
              "      <td>0.094497</td>\n",
              "      <td>-0.057158</td>\n",
              "      <td>0.099204</td>\n",
              "      <td>-0.280711</td>\n",
              "      <td>-0.127515</td>\n",
              "      <td>2.168290</td>\n",
              "      <td>...</td>\n",
              "      <td>-0.338119</td>\n",
              "      <td>-0.551489</td>\n",
              "      <td>-0.248950</td>\n",
              "      <td>-0.964184</td>\n",
              "      <td>0.592470</td>\n",
              "      <td>1.156197</td>\n",
              "      <td>-0.102371</td>\n",
              "      <td>-0.014854</td>\n",
              "      <td>39.98</td>\n",
              "      <td>0.0</td>\n",
              "    </tr>\n",
              "    <tr>\n",
              "      <th>8764</th>\n",
              "      <td>11932</td>\n",
              "      <td>-1.093189</td>\n",
              "      <td>0.157400</td>\n",
              "      <td>2.048652</td>\n",
              "      <td>-0.860421</td>\n",
              "      <td>0.235073</td>\n",
              "      <td>-0.167494</td>\n",
              "      <td>0.636240</td>\n",
              "      <td>-0.205278</td>\n",
              "      <td>1.507648</td>\n",
              "      <td>...</td>\n",
              "      <td>-0.255789</td>\n",
              "      <td>-0.233994</td>\n",
              "      <td>-0.451409</td>\n",
              "      <td>0.018927</td>\n",
              "      <td>0.377757</td>\n",
              "      <td>0.958870</td>\n",
              "      <td>-0.297683</td>\n",
              "      <td>-0.246392</td>\n",
              "      <td>80.50</td>\n",
              "      <td>0.0</td>\n",
              "    </tr>\n",
              "    <tr>\n",
              "      <th>8765</th>\n",
              "      <td>11932</td>\n",
              "      <td>-2.594443</td>\n",
              "      <td>-0.991587</td>\n",
              "      <td>1.957468</td>\n",
              "      <td>1.705635</td>\n",
              "      <td>-0.182961</td>\n",
              "      <td>0.095771</td>\n",
              "      <td>-0.281082</td>\n",
              "      <td>0.642498</td>\n",
              "      <td>1.001348</td>\n",
              "      <td>...</td>\n",
              "      <td>0.353258</td>\n",
              "      <td>0.501825</td>\n",
              "      <td>0.292150</td>\n",
              "      <td>0.060489</td>\n",
              "      <td>0.453079</td>\n",
              "      <td>-0.142001</td>\n",
              "      <td>0.183807</td>\n",
              "      <td>-0.143522</td>\n",
              "      <td>NaN</td>\n",
              "      <td>NaN</td>\n",
              "    </tr>\n",
              "  </tbody>\n",
              "</table>\n",
              "<p>5 rows × 31 columns</p>\n",
              "</div>\n",
              "      <button class=\"colab-df-convert\" onclick=\"convertToInteractive('df-20692095-c92f-4c0d-93c8-af74699ab1f9')\"\n",
              "              title=\"Convert this dataframe to an interactive table.\"\n",
              "              style=\"display:none;\">\n",
              "        \n",
              "  <svg xmlns=\"http://www.w3.org/2000/svg\" height=\"24px\"viewBox=\"0 0 24 24\"\n",
              "       width=\"24px\">\n",
              "    <path d=\"M0 0h24v24H0V0z\" fill=\"none\"/>\n",
              "    <path d=\"M18.56 5.44l.94 2.06.94-2.06 2.06-.94-2.06-.94-.94-2.06-.94 2.06-2.06.94zm-11 1L8.5 8.5l.94-2.06 2.06-.94-2.06-.94L8.5 2.5l-.94 2.06-2.06.94zm10 10l.94 2.06.94-2.06 2.06-.94-2.06-.94-.94-2.06-.94 2.06-2.06.94z\"/><path d=\"M17.41 7.96l-1.37-1.37c-.4-.4-.92-.59-1.43-.59-.52 0-1.04.2-1.43.59L10.3 9.45l-7.72 7.72c-.78.78-.78 2.05 0 2.83L4 21.41c.39.39.9.59 1.41.59.51 0 1.02-.2 1.41-.59l7.78-7.78 2.81-2.81c.8-.78.8-2.07 0-2.86zM5.41 20L4 18.59l7.72-7.72 1.47 1.35L5.41 20z\"/>\n",
              "  </svg>\n",
              "      </button>\n",
              "      \n",
              "  <style>\n",
              "    .colab-df-container {\n",
              "      display:flex;\n",
              "      flex-wrap:wrap;\n",
              "      gap: 12px;\n",
              "    }\n",
              "\n",
              "    .colab-df-convert {\n",
              "      background-color: #E8F0FE;\n",
              "      border: none;\n",
              "      border-radius: 50%;\n",
              "      cursor: pointer;\n",
              "      display: none;\n",
              "      fill: #1967D2;\n",
              "      height: 32px;\n",
              "      padding: 0 0 0 0;\n",
              "      width: 32px;\n",
              "    }\n",
              "\n",
              "    .colab-df-convert:hover {\n",
              "      background-color: #E2EBFA;\n",
              "      box-shadow: 0px 1px 2px rgba(60, 64, 67, 0.3), 0px 1px 3px 1px rgba(60, 64, 67, 0.15);\n",
              "      fill: #174EA6;\n",
              "    }\n",
              "\n",
              "    [theme=dark] .colab-df-convert {\n",
              "      background-color: #3B4455;\n",
              "      fill: #D2E3FC;\n",
              "    }\n",
              "\n",
              "    [theme=dark] .colab-df-convert:hover {\n",
              "      background-color: #434B5C;\n",
              "      box-shadow: 0px 1px 3px 1px rgba(0, 0, 0, 0.15);\n",
              "      filter: drop-shadow(0px 1px 2px rgba(0, 0, 0, 0.3));\n",
              "      fill: #FFFFFF;\n",
              "    }\n",
              "  </style>\n",
              "\n",
              "      <script>\n",
              "        const buttonEl =\n",
              "          document.querySelector('#df-20692095-c92f-4c0d-93c8-af74699ab1f9 button.colab-df-convert');\n",
              "        buttonEl.style.display =\n",
              "          google.colab.kernel.accessAllowed ? 'block' : 'none';\n",
              "\n",
              "        async function convertToInteractive(key) {\n",
              "          const element = document.querySelector('#df-20692095-c92f-4c0d-93c8-af74699ab1f9');\n",
              "          const dataTable =\n",
              "            await google.colab.kernel.invokeFunction('convertToInteractive',\n",
              "                                                     [key], {});\n",
              "          if (!dataTable) return;\n",
              "\n",
              "          const docLinkHtml = 'Like what you see? Visit the ' +\n",
              "            '<a target=\"_blank\" href=https://colab.research.google.com/notebooks/data_table.ipynb>data table notebook</a>'\n",
              "            + ' to learn more about interactive tables.';\n",
              "          element.innerHTML = '';\n",
              "          dataTable['output_type'] = 'display_data';\n",
              "          await google.colab.output.renderOutput(dataTable, element);\n",
              "          const docLink = document.createElement('div');\n",
              "          docLink.innerHTML = docLinkHtml;\n",
              "          element.appendChild(docLink);\n",
              "        }\n",
              "      </script>\n",
              "    </div>\n",
              "  </div>\n",
              "  "
            ]
          },
          "metadata": {},
          "execution_count": 4
        }
      ]
    },
    {
      "cell_type": "code",
      "metadata": {
        "colab": {
          "base_uri": "https://localhost:8080/"
        },
        "id": "KcCZquvEUD3A",
        "outputId": "98a9594f-dbe3-440a-935f-4054a5332f7a"
      },
      "source": [
        "# dataset informations\n",
        "credit_card_data.info()"
      ],
      "execution_count": null,
      "outputs": [
        {
          "output_type": "stream",
          "name": "stdout",
          "text": [
            "<class 'pandas.core.frame.DataFrame'>\n",
            "RangeIndex: 8766 entries, 0 to 8765\n",
            "Data columns (total 31 columns):\n",
            " #   Column  Non-Null Count  Dtype  \n",
            "---  ------  --------------  -----  \n",
            " 0   Time    8766 non-null   int64  \n",
            " 1   V1      8766 non-null   float64\n",
            " 2   V2      8766 non-null   float64\n",
            " 3   V3      8766 non-null   float64\n",
            " 4   V4      8766 non-null   float64\n",
            " 5   V5      8766 non-null   float64\n",
            " 6   V6      8766 non-null   float64\n",
            " 7   V7      8766 non-null   float64\n",
            " 8   V8      8766 non-null   float64\n",
            " 9   V9      8766 non-null   float64\n",
            " 10  V10     8766 non-null   float64\n",
            " 11  V11     8766 non-null   float64\n",
            " 12  V12     8766 non-null   float64\n",
            " 13  V13     8766 non-null   float64\n",
            " 14  V14     8766 non-null   float64\n",
            " 15  V15     8766 non-null   float64\n",
            " 16  V16     8766 non-null   float64\n",
            " 17  V17     8766 non-null   float64\n",
            " 18  V18     8766 non-null   float64\n",
            " 19  V19     8766 non-null   float64\n",
            " 20  V20     8766 non-null   float64\n",
            " 21  V21     8766 non-null   float64\n",
            " 22  V22     8766 non-null   float64\n",
            " 23  V23     8766 non-null   float64\n",
            " 24  V24     8766 non-null   float64\n",
            " 25  V25     8766 non-null   float64\n",
            " 26  V26     8766 non-null   float64\n",
            " 27  V27     8766 non-null   float64\n",
            " 28  V28     8766 non-null   float64\n",
            " 29  Amount  8765 non-null   float64\n",
            " 30  Class   8765 non-null   float64\n",
            "dtypes: float64(30), int64(1)\n",
            "memory usage: 2.1 MB\n"
          ]
        }
      ]
    },
    {
      "cell_type": "code",
      "metadata": {
        "colab": {
          "base_uri": "https://localhost:8080/"
        },
        "id": "XxwasmfKUQiA",
        "outputId": "fa2c9e5c-8696-4f6e-dbd7-4f7c649755b0"
      },
      "source": [
        "# checking the number of missing values in each column\n",
        "credit_card_data.isnull().sum()"
      ],
      "execution_count": null,
      "outputs": [
        {
          "output_type": "execute_result",
          "data": {
            "text/plain": [
              "Time      0\n",
              "V1        0\n",
              "V2        0\n",
              "V3        0\n",
              "V4        0\n",
              "V5        0\n",
              "V6        0\n",
              "V7        0\n",
              "V8        0\n",
              "V9        0\n",
              "V10       0\n",
              "V11       0\n",
              "V12       0\n",
              "V13       0\n",
              "V14       0\n",
              "V15       0\n",
              "V16       0\n",
              "V17       0\n",
              "V18       0\n",
              "V19       0\n",
              "V20       0\n",
              "V21       0\n",
              "V22       0\n",
              "V23       0\n",
              "V24       0\n",
              "V25       0\n",
              "V26       0\n",
              "V27       0\n",
              "V28       0\n",
              "Amount    1\n",
              "Class     1\n",
              "dtype: int64"
            ]
          },
          "metadata": {},
          "execution_count": 6
        }
      ]
    },
    {
      "cell_type": "code",
      "metadata": {
        "colab": {
          "base_uri": "https://localhost:8080/"
        },
        "id": "EIpoKfp5Ugri",
        "outputId": "884638f4-2690-4c42-9c58-450433d45232"
      },
      "source": [
        "# distribution of legit transactions & fraudulent transactions\n",
        "credit_card_data['Class'].value_counts()"
      ],
      "execution_count": null,
      "outputs": [
        {
          "output_type": "execute_result",
          "data": {
            "text/plain": [
              "0.0    8735\n",
              "1.0      30\n",
              "Name: Class, dtype: int64"
            ]
          },
          "metadata": {},
          "execution_count": 7
        }
      ]
    },
    {
      "cell_type": "markdown",
      "metadata": {
        "id": "flz_InK7VGri"
      },
      "source": [
        "This Dataset is highly unblanced"
      ]
    },
    {
      "cell_type": "markdown",
      "metadata": {
        "id": "4OlMhkHzVKMv"
      },
      "source": [
        "0 --> Normal Transaction\n",
        "\n",
        "1 --> fraudulent transaction"
      ]
    },
    {
      "cell_type": "code",
      "metadata": {
        "id": "QNn77bdbU2Lf"
      },
      "source": [
        "# separating the data for analysis\n",
        "legit = credit_card_data[credit_card_data.Class == 0]\n",
        "fraud = credit_card_data[credit_card_data.Class == 1]"
      ],
      "execution_count": null,
      "outputs": []
    },
    {
      "cell_type": "code",
      "metadata": {
        "colab": {
          "base_uri": "https://localhost:8080/"
        },
        "id": "zsrMgOdoVnrV",
        "outputId": "50faeeeb-e1a3-4a37-f462-f9e2d06f58ef"
      },
      "source": [
        "print(legit.shape)\n",
        "print(fraud.shape)"
      ],
      "execution_count": null,
      "outputs": [
        {
          "output_type": "stream",
          "name": "stdout",
          "text": [
            "(8735, 31)\n",
            "(30, 31)\n"
          ]
        }
      ]
    },
    {
      "cell_type": "code",
      "metadata": {
        "colab": {
          "base_uri": "https://localhost:8080/"
        },
        "id": "1s3KGshBVsTb",
        "outputId": "09769b2d-aee6-4374-80fe-35cff9ff8565"
      },
      "source": [
        "# statistical measures of the data\n",
        "legit.Amount.describe()"
      ],
      "execution_count": null,
      "outputs": [
        {
          "output_type": "execute_result",
          "data": {
            "text/plain": [
              "count    8735.000000\n",
              "mean       63.703021\n",
              "std       189.290575\n",
              "min         0.000000\n",
              "25%         5.000000\n",
              "50%        15.950000\n",
              "75%        52.520000\n",
              "max      7712.430000\n",
              "Name: Amount, dtype: float64"
            ]
          },
          "metadata": {},
          "execution_count": 10
        }
      ]
    },
    {
      "cell_type": "code",
      "metadata": {
        "colab": {
          "base_uri": "https://localhost:8080/"
        },
        "id": "KkU3Mzr5V7fR",
        "outputId": "dbc87ab3-e4e0-440f-d0aa-14dc6f480234"
      },
      "source": [
        "fraud.Amount.describe()"
      ],
      "execution_count": null,
      "outputs": [
        {
          "output_type": "execute_result",
          "data": {
            "text/plain": [
              "count      30.000000\n",
              "mean       88.757000\n",
              "std       341.372542\n",
              "min         0.000000\n",
              "25%         1.000000\n",
              "50%         1.000000\n",
              "75%         1.000000\n",
              "max      1809.680000\n",
              "Name: Amount, dtype: float64"
            ]
          },
          "metadata": {},
          "execution_count": 11
        }
      ]
    },
    {
      "cell_type": "code",
      "metadata": {
        "colab": {
          "base_uri": "https://localhost:8080/",
          "height": 237
        },
        "id": "aFUMMHwYWMvp",
        "outputId": "422f40ba-3af9-4e68-d583-dfc6ac59a0d6"
      },
      "source": [
        "# compare the values for both transactions\n",
        "credit_card_data.groupby('Class').mean()"
      ],
      "execution_count": null,
      "outputs": [
        {
          "output_type": "execute_result",
          "data": {
            "text/plain": [
              "              Time        V1        V2        V3        V4        V5  \\\n",
              "Class                                                                  \n",
              "0.0    4882.544820 -0.259336  0.266048  0.925581  0.200324 -0.032140   \n",
              "1.0    8018.266667 -1.166570  3.286696 -5.482274  5.085269 -0.719672   \n",
              "\n",
              "             V6        V7        V8        V9  ...       V20       V21  \\\n",
              "Class                                          ...                       \n",
              "0.0    0.135860 -0.037305 -0.075399  0.737494  ...  0.034879 -0.057467   \n",
              "1.0   -2.080676 -2.767707  0.807816 -1.990289  ...  0.394607  0.519188   \n",
              "\n",
              "            V22       V23       V24       V25       V26       V27       V28  \\\n",
              "Class                                                                         \n",
              "0.0   -0.157840 -0.037685  0.026254  0.089180  0.073536  0.009300  0.001242   \n",
              "1.0   -0.241668 -0.129442 -0.284319  0.116275  0.307045  0.589117  0.306852   \n",
              "\n",
              "          Amount  \n",
              "Class             \n",
              "0.0    63.703021  \n",
              "1.0    88.757000  \n",
              "\n",
              "[2 rows x 30 columns]"
            ],
            "text/html": [
              "\n",
              "  <div id=\"df-7a709657-2916-4771-9315-d5dabd8dab27\">\n",
              "    <div class=\"colab-df-container\">\n",
              "      <div>\n",
              "<style scoped>\n",
              "    .dataframe tbody tr th:only-of-type {\n",
              "        vertical-align: middle;\n",
              "    }\n",
              "\n",
              "    .dataframe tbody tr th {\n",
              "        vertical-align: top;\n",
              "    }\n",
              "\n",
              "    .dataframe thead th {\n",
              "        text-align: right;\n",
              "    }\n",
              "</style>\n",
              "<table border=\"1\" class=\"dataframe\">\n",
              "  <thead>\n",
              "    <tr style=\"text-align: right;\">\n",
              "      <th></th>\n",
              "      <th>Time</th>\n",
              "      <th>V1</th>\n",
              "      <th>V2</th>\n",
              "      <th>V3</th>\n",
              "      <th>V4</th>\n",
              "      <th>V5</th>\n",
              "      <th>V6</th>\n",
              "      <th>V7</th>\n",
              "      <th>V8</th>\n",
              "      <th>V9</th>\n",
              "      <th>...</th>\n",
              "      <th>V20</th>\n",
              "      <th>V21</th>\n",
              "      <th>V22</th>\n",
              "      <th>V23</th>\n",
              "      <th>V24</th>\n",
              "      <th>V25</th>\n",
              "      <th>V26</th>\n",
              "      <th>V27</th>\n",
              "      <th>V28</th>\n",
              "      <th>Amount</th>\n",
              "    </tr>\n",
              "    <tr>\n",
              "      <th>Class</th>\n",
              "      <th></th>\n",
              "      <th></th>\n",
              "      <th></th>\n",
              "      <th></th>\n",
              "      <th></th>\n",
              "      <th></th>\n",
              "      <th></th>\n",
              "      <th></th>\n",
              "      <th></th>\n",
              "      <th></th>\n",
              "      <th></th>\n",
              "      <th></th>\n",
              "      <th></th>\n",
              "      <th></th>\n",
              "      <th></th>\n",
              "      <th></th>\n",
              "      <th></th>\n",
              "      <th></th>\n",
              "      <th></th>\n",
              "      <th></th>\n",
              "      <th></th>\n",
              "    </tr>\n",
              "  </thead>\n",
              "  <tbody>\n",
              "    <tr>\n",
              "      <th>0.0</th>\n",
              "      <td>4882.544820</td>\n",
              "      <td>-0.259336</td>\n",
              "      <td>0.266048</td>\n",
              "      <td>0.925581</td>\n",
              "      <td>0.200324</td>\n",
              "      <td>-0.032140</td>\n",
              "      <td>0.135860</td>\n",
              "      <td>-0.037305</td>\n",
              "      <td>-0.075399</td>\n",
              "      <td>0.737494</td>\n",
              "      <td>...</td>\n",
              "      <td>0.034879</td>\n",
              "      <td>-0.057467</td>\n",
              "      <td>-0.157840</td>\n",
              "      <td>-0.037685</td>\n",
              "      <td>0.026254</td>\n",
              "      <td>0.089180</td>\n",
              "      <td>0.073536</td>\n",
              "      <td>0.009300</td>\n",
              "      <td>0.001242</td>\n",
              "      <td>63.703021</td>\n",
              "    </tr>\n",
              "    <tr>\n",
              "      <th>1.0</th>\n",
              "      <td>8018.266667</td>\n",
              "      <td>-1.166570</td>\n",
              "      <td>3.286696</td>\n",
              "      <td>-5.482274</td>\n",
              "      <td>5.085269</td>\n",
              "      <td>-0.719672</td>\n",
              "      <td>-2.080676</td>\n",
              "      <td>-2.767707</td>\n",
              "      <td>0.807816</td>\n",
              "      <td>-1.990289</td>\n",
              "      <td>...</td>\n",
              "      <td>0.394607</td>\n",
              "      <td>0.519188</td>\n",
              "      <td>-0.241668</td>\n",
              "      <td>-0.129442</td>\n",
              "      <td>-0.284319</td>\n",
              "      <td>0.116275</td>\n",
              "      <td>0.307045</td>\n",
              "      <td>0.589117</td>\n",
              "      <td>0.306852</td>\n",
              "      <td>88.757000</td>\n",
              "    </tr>\n",
              "  </tbody>\n",
              "</table>\n",
              "<p>2 rows × 30 columns</p>\n",
              "</div>\n",
              "      <button class=\"colab-df-convert\" onclick=\"convertToInteractive('df-7a709657-2916-4771-9315-d5dabd8dab27')\"\n",
              "              title=\"Convert this dataframe to an interactive table.\"\n",
              "              style=\"display:none;\">\n",
              "        \n",
              "  <svg xmlns=\"http://www.w3.org/2000/svg\" height=\"24px\"viewBox=\"0 0 24 24\"\n",
              "       width=\"24px\">\n",
              "    <path d=\"M0 0h24v24H0V0z\" fill=\"none\"/>\n",
              "    <path d=\"M18.56 5.44l.94 2.06.94-2.06 2.06-.94-2.06-.94-.94-2.06-.94 2.06-2.06.94zm-11 1L8.5 8.5l.94-2.06 2.06-.94-2.06-.94L8.5 2.5l-.94 2.06-2.06.94zm10 10l.94 2.06.94-2.06 2.06-.94-2.06-.94-.94-2.06-.94 2.06-2.06.94z\"/><path d=\"M17.41 7.96l-1.37-1.37c-.4-.4-.92-.59-1.43-.59-.52 0-1.04.2-1.43.59L10.3 9.45l-7.72 7.72c-.78.78-.78 2.05 0 2.83L4 21.41c.39.39.9.59 1.41.59.51 0 1.02-.2 1.41-.59l7.78-7.78 2.81-2.81c.8-.78.8-2.07 0-2.86zM5.41 20L4 18.59l7.72-7.72 1.47 1.35L5.41 20z\"/>\n",
              "  </svg>\n",
              "      </button>\n",
              "      \n",
              "  <style>\n",
              "    .colab-df-container {\n",
              "      display:flex;\n",
              "      flex-wrap:wrap;\n",
              "      gap: 12px;\n",
              "    }\n",
              "\n",
              "    .colab-df-convert {\n",
              "      background-color: #E8F0FE;\n",
              "      border: none;\n",
              "      border-radius: 50%;\n",
              "      cursor: pointer;\n",
              "      display: none;\n",
              "      fill: #1967D2;\n",
              "      height: 32px;\n",
              "      padding: 0 0 0 0;\n",
              "      width: 32px;\n",
              "    }\n",
              "\n",
              "    .colab-df-convert:hover {\n",
              "      background-color: #E2EBFA;\n",
              "      box-shadow: 0px 1px 2px rgba(60, 64, 67, 0.3), 0px 1px 3px 1px rgba(60, 64, 67, 0.15);\n",
              "      fill: #174EA6;\n",
              "    }\n",
              "\n",
              "    [theme=dark] .colab-df-convert {\n",
              "      background-color: #3B4455;\n",
              "      fill: #D2E3FC;\n",
              "    }\n",
              "\n",
              "    [theme=dark] .colab-df-convert:hover {\n",
              "      background-color: #434B5C;\n",
              "      box-shadow: 0px 1px 3px 1px rgba(0, 0, 0, 0.15);\n",
              "      filter: drop-shadow(0px 1px 2px rgba(0, 0, 0, 0.3));\n",
              "      fill: #FFFFFF;\n",
              "    }\n",
              "  </style>\n",
              "\n",
              "      <script>\n",
              "        const buttonEl =\n",
              "          document.querySelector('#df-7a709657-2916-4771-9315-d5dabd8dab27 button.colab-df-convert');\n",
              "        buttonEl.style.display =\n",
              "          google.colab.kernel.accessAllowed ? 'block' : 'none';\n",
              "\n",
              "        async function convertToInteractive(key) {\n",
              "          const element = document.querySelector('#df-7a709657-2916-4771-9315-d5dabd8dab27');\n",
              "          const dataTable =\n",
              "            await google.colab.kernel.invokeFunction('convertToInteractive',\n",
              "                                                     [key], {});\n",
              "          if (!dataTable) return;\n",
              "\n",
              "          const docLinkHtml = 'Like what you see? Visit the ' +\n",
              "            '<a target=\"_blank\" href=https://colab.research.google.com/notebooks/data_table.ipynb>data table notebook</a>'\n",
              "            + ' to learn more about interactive tables.';\n",
              "          element.innerHTML = '';\n",
              "          dataTable['output_type'] = 'display_data';\n",
              "          await google.colab.output.renderOutput(dataTable, element);\n",
              "          const docLink = document.createElement('div');\n",
              "          docLink.innerHTML = docLinkHtml;\n",
              "          element.appendChild(docLink);\n",
              "        }\n",
              "      </script>\n",
              "    </div>\n",
              "  </div>\n",
              "  "
            ]
          },
          "metadata": {},
          "execution_count": 12
        }
      ]
    },
    {
      "cell_type": "markdown",
      "metadata": {
        "id": "ybHNYPpEW0N6"
      },
      "source": [
        "Under-Sampling"
      ]
    },
    {
      "cell_type": "markdown",
      "metadata": {
        "id": "MlXkIGEIW3KM"
      },
      "source": [
        "Build a sample dataset containing similar distribution of normal transactions and Fraudulent Transactions"
      ]
    },
    {
      "cell_type": "markdown",
      "metadata": {
        "id": "bCj3Dee7XB0F"
      },
      "source": [
        "Number of Fraudulent Transactions --> 492"
      ]
    },
    {
      "cell_type": "code",
      "metadata": {
        "id": "QtWT13mKWjJ_"
      },
      "source": [
        "legit_sample = legit.sample(n=492)"
      ],
      "execution_count": null,
      "outputs": []
    },
    {
      "cell_type": "markdown",
      "metadata": {
        "id": "SNiYI_SmXeim"
      },
      "source": [
        "Concatenating two DataFrames"
      ]
    },
    {
      "cell_type": "code",
      "metadata": {
        "id": "0yiXrYiRXcnE"
      },
      "source": [
        "new_dataset = pd.concat([legit_sample, fraud], axis=0)"
      ],
      "execution_count": null,
      "outputs": []
    },
    {
      "cell_type": "code",
      "metadata": {
        "colab": {
          "base_uri": "https://localhost:8080/",
          "height": 300
        },
        "id": "UuLw43AXX0bq",
        "outputId": "5dae3a16-e535-4a07-9e95-ea17c563f840"
      },
      "source": [
        "new_dataset.head()"
      ],
      "execution_count": null,
      "outputs": [
        {
          "output_type": "execute_result",
          "data": {
            "text/plain": [
              "      Time        V1        V2        V3        V4        V5        V6  \\\n",
              "5027  4636  0.664729 -0.638774 -0.258216  1.243438  0.194268  0.690724   \n",
              "4897  4431  1.159266 -0.068184  0.522080  1.340043  0.178743  1.401810   \n",
              "5871  6398 -2.380210 -0.266473  1.090077  0.853215  3.371780  3.790719   \n",
              "6023  6781  0.946724 -0.811320  0.265932 -0.817474 -0.980097 -0.981556   \n",
              "1993  1531 -2.844709  2.734210 -0.499037 -1.034623 -0.776265 -0.668750   \n",
              "\n",
              "            V7        V8        V9  ...       V21       V22       V23  \\\n",
              "5027  0.196727  0.072999  1.181640  ... -0.159994 -0.921783 -0.310798   \n",
              "4897 -0.632770  0.350461  2.064474  ... -0.273400 -0.235403 -0.236655   \n",
              "5871 -1.123674  0.941963  1.236974  ... -0.306571 -0.514617 -0.443708   \n",
              "6023  0.001164 -0.364284  2.911724  ... -0.122531 -0.137021 -0.276956   \n",
              "1993 -0.356853  1.313071  0.591929  ... -0.289244 -0.643686  0.027395   \n",
              "\n",
              "           V24       V25       V26       V27       V28  Amount  Class  \n",
              "5027 -1.251307  0.350796 -0.517858 -0.060657  0.042954  296.44    0.0  \n",
              "4897 -1.368112  0.718796 -0.229859  0.036269 -0.007499   15.00    0.0  \n",
              "5871  0.962374  0.088245 -0.280859 -0.635895  0.616903    0.00    0.0  \n",
              "6023  0.424674  0.619433 -0.002015 -0.038106  0.037535  187.14    0.0  \n",
              "1993 -0.432674  0.296821  0.376164  0.556133  0.352268    1.00    0.0  \n",
              "\n",
              "[5 rows x 31 columns]"
            ],
            "text/html": [
              "\n",
              "  <div id=\"df-6de19e82-7742-49af-90f7-63439928eecf\">\n",
              "    <div class=\"colab-df-container\">\n",
              "      <div>\n",
              "<style scoped>\n",
              "    .dataframe tbody tr th:only-of-type {\n",
              "        vertical-align: middle;\n",
              "    }\n",
              "\n",
              "    .dataframe tbody tr th {\n",
              "        vertical-align: top;\n",
              "    }\n",
              "\n",
              "    .dataframe thead th {\n",
              "        text-align: right;\n",
              "    }\n",
              "</style>\n",
              "<table border=\"1\" class=\"dataframe\">\n",
              "  <thead>\n",
              "    <tr style=\"text-align: right;\">\n",
              "      <th></th>\n",
              "      <th>Time</th>\n",
              "      <th>V1</th>\n",
              "      <th>V2</th>\n",
              "      <th>V3</th>\n",
              "      <th>V4</th>\n",
              "      <th>V5</th>\n",
              "      <th>V6</th>\n",
              "      <th>V7</th>\n",
              "      <th>V8</th>\n",
              "      <th>V9</th>\n",
              "      <th>...</th>\n",
              "      <th>V21</th>\n",
              "      <th>V22</th>\n",
              "      <th>V23</th>\n",
              "      <th>V24</th>\n",
              "      <th>V25</th>\n",
              "      <th>V26</th>\n",
              "      <th>V27</th>\n",
              "      <th>V28</th>\n",
              "      <th>Amount</th>\n",
              "      <th>Class</th>\n",
              "    </tr>\n",
              "  </thead>\n",
              "  <tbody>\n",
              "    <tr>\n",
              "      <th>5027</th>\n",
              "      <td>4636</td>\n",
              "      <td>0.664729</td>\n",
              "      <td>-0.638774</td>\n",
              "      <td>-0.258216</td>\n",
              "      <td>1.243438</td>\n",
              "      <td>0.194268</td>\n",
              "      <td>0.690724</td>\n",
              "      <td>0.196727</td>\n",
              "      <td>0.072999</td>\n",
              "      <td>1.181640</td>\n",
              "      <td>...</td>\n",
              "      <td>-0.159994</td>\n",
              "      <td>-0.921783</td>\n",
              "      <td>-0.310798</td>\n",
              "      <td>-1.251307</td>\n",
              "      <td>0.350796</td>\n",
              "      <td>-0.517858</td>\n",
              "      <td>-0.060657</td>\n",
              "      <td>0.042954</td>\n",
              "      <td>296.44</td>\n",
              "      <td>0.0</td>\n",
              "    </tr>\n",
              "    <tr>\n",
              "      <th>4897</th>\n",
              "      <td>4431</td>\n",
              "      <td>1.159266</td>\n",
              "      <td>-0.068184</td>\n",
              "      <td>0.522080</td>\n",
              "      <td>1.340043</td>\n",
              "      <td>0.178743</td>\n",
              "      <td>1.401810</td>\n",
              "      <td>-0.632770</td>\n",
              "      <td>0.350461</td>\n",
              "      <td>2.064474</td>\n",
              "      <td>...</td>\n",
              "      <td>-0.273400</td>\n",
              "      <td>-0.235403</td>\n",
              "      <td>-0.236655</td>\n",
              "      <td>-1.368112</td>\n",
              "      <td>0.718796</td>\n",
              "      <td>-0.229859</td>\n",
              "      <td>0.036269</td>\n",
              "      <td>-0.007499</td>\n",
              "      <td>15.00</td>\n",
              "      <td>0.0</td>\n",
              "    </tr>\n",
              "    <tr>\n",
              "      <th>5871</th>\n",
              "      <td>6398</td>\n",
              "      <td>-2.380210</td>\n",
              "      <td>-0.266473</td>\n",
              "      <td>1.090077</td>\n",
              "      <td>0.853215</td>\n",
              "      <td>3.371780</td>\n",
              "      <td>3.790719</td>\n",
              "      <td>-1.123674</td>\n",
              "      <td>0.941963</td>\n",
              "      <td>1.236974</td>\n",
              "      <td>...</td>\n",
              "      <td>-0.306571</td>\n",
              "      <td>-0.514617</td>\n",
              "      <td>-0.443708</td>\n",
              "      <td>0.962374</td>\n",
              "      <td>0.088245</td>\n",
              "      <td>-0.280859</td>\n",
              "      <td>-0.635895</td>\n",
              "      <td>0.616903</td>\n",
              "      <td>0.00</td>\n",
              "      <td>0.0</td>\n",
              "    </tr>\n",
              "    <tr>\n",
              "      <th>6023</th>\n",
              "      <td>6781</td>\n",
              "      <td>0.946724</td>\n",
              "      <td>-0.811320</td>\n",
              "      <td>0.265932</td>\n",
              "      <td>-0.817474</td>\n",
              "      <td>-0.980097</td>\n",
              "      <td>-0.981556</td>\n",
              "      <td>0.001164</td>\n",
              "      <td>-0.364284</td>\n",
              "      <td>2.911724</td>\n",
              "      <td>...</td>\n",
              "      <td>-0.122531</td>\n",
              "      <td>-0.137021</td>\n",
              "      <td>-0.276956</td>\n",
              "      <td>0.424674</td>\n",
              "      <td>0.619433</td>\n",
              "      <td>-0.002015</td>\n",
              "      <td>-0.038106</td>\n",
              "      <td>0.037535</td>\n",
              "      <td>187.14</td>\n",
              "      <td>0.0</td>\n",
              "    </tr>\n",
              "    <tr>\n",
              "      <th>1993</th>\n",
              "      <td>1531</td>\n",
              "      <td>-2.844709</td>\n",
              "      <td>2.734210</td>\n",
              "      <td>-0.499037</td>\n",
              "      <td>-1.034623</td>\n",
              "      <td>-0.776265</td>\n",
              "      <td>-0.668750</td>\n",
              "      <td>-0.356853</td>\n",
              "      <td>1.313071</td>\n",
              "      <td>0.591929</td>\n",
              "      <td>...</td>\n",
              "      <td>-0.289244</td>\n",
              "      <td>-0.643686</td>\n",
              "      <td>0.027395</td>\n",
              "      <td>-0.432674</td>\n",
              "      <td>0.296821</td>\n",
              "      <td>0.376164</td>\n",
              "      <td>0.556133</td>\n",
              "      <td>0.352268</td>\n",
              "      <td>1.00</td>\n",
              "      <td>0.0</td>\n",
              "    </tr>\n",
              "  </tbody>\n",
              "</table>\n",
              "<p>5 rows × 31 columns</p>\n",
              "</div>\n",
              "      <button class=\"colab-df-convert\" onclick=\"convertToInteractive('df-6de19e82-7742-49af-90f7-63439928eecf')\"\n",
              "              title=\"Convert this dataframe to an interactive table.\"\n",
              "              style=\"display:none;\">\n",
              "        \n",
              "  <svg xmlns=\"http://www.w3.org/2000/svg\" height=\"24px\"viewBox=\"0 0 24 24\"\n",
              "       width=\"24px\">\n",
              "    <path d=\"M0 0h24v24H0V0z\" fill=\"none\"/>\n",
              "    <path d=\"M18.56 5.44l.94 2.06.94-2.06 2.06-.94-2.06-.94-.94-2.06-.94 2.06-2.06.94zm-11 1L8.5 8.5l.94-2.06 2.06-.94-2.06-.94L8.5 2.5l-.94 2.06-2.06.94zm10 10l.94 2.06.94-2.06 2.06-.94-2.06-.94-.94-2.06-.94 2.06-2.06.94z\"/><path d=\"M17.41 7.96l-1.37-1.37c-.4-.4-.92-.59-1.43-.59-.52 0-1.04.2-1.43.59L10.3 9.45l-7.72 7.72c-.78.78-.78 2.05 0 2.83L4 21.41c.39.39.9.59 1.41.59.51 0 1.02-.2 1.41-.59l7.78-7.78 2.81-2.81c.8-.78.8-2.07 0-2.86zM5.41 20L4 18.59l7.72-7.72 1.47 1.35L5.41 20z\"/>\n",
              "  </svg>\n",
              "      </button>\n",
              "      \n",
              "  <style>\n",
              "    .colab-df-container {\n",
              "      display:flex;\n",
              "      flex-wrap:wrap;\n",
              "      gap: 12px;\n",
              "    }\n",
              "\n",
              "    .colab-df-convert {\n",
              "      background-color: #E8F0FE;\n",
              "      border: none;\n",
              "      border-radius: 50%;\n",
              "      cursor: pointer;\n",
              "      display: none;\n",
              "      fill: #1967D2;\n",
              "      height: 32px;\n",
              "      padding: 0 0 0 0;\n",
              "      width: 32px;\n",
              "    }\n",
              "\n",
              "    .colab-df-convert:hover {\n",
              "      background-color: #E2EBFA;\n",
              "      box-shadow: 0px 1px 2px rgba(60, 64, 67, 0.3), 0px 1px 3px 1px rgba(60, 64, 67, 0.15);\n",
              "      fill: #174EA6;\n",
              "    }\n",
              "\n",
              "    [theme=dark] .colab-df-convert {\n",
              "      background-color: #3B4455;\n",
              "      fill: #D2E3FC;\n",
              "    }\n",
              "\n",
              "    [theme=dark] .colab-df-convert:hover {\n",
              "      background-color: #434B5C;\n",
              "      box-shadow: 0px 1px 3px 1px rgba(0, 0, 0, 0.15);\n",
              "      filter: drop-shadow(0px 1px 2px rgba(0, 0, 0, 0.3));\n",
              "      fill: #FFFFFF;\n",
              "    }\n",
              "  </style>\n",
              "\n",
              "      <script>\n",
              "        const buttonEl =\n",
              "          document.querySelector('#df-6de19e82-7742-49af-90f7-63439928eecf button.colab-df-convert');\n",
              "        buttonEl.style.display =\n",
              "          google.colab.kernel.accessAllowed ? 'block' : 'none';\n",
              "\n",
              "        async function convertToInteractive(key) {\n",
              "          const element = document.querySelector('#df-6de19e82-7742-49af-90f7-63439928eecf');\n",
              "          const dataTable =\n",
              "            await google.colab.kernel.invokeFunction('convertToInteractive',\n",
              "                                                     [key], {});\n",
              "          if (!dataTable) return;\n",
              "\n",
              "          const docLinkHtml = 'Like what you see? Visit the ' +\n",
              "            '<a target=\"_blank\" href=https://colab.research.google.com/notebooks/data_table.ipynb>data table notebook</a>'\n",
              "            + ' to learn more about interactive tables.';\n",
              "          element.innerHTML = '';\n",
              "          dataTable['output_type'] = 'display_data';\n",
              "          await google.colab.output.renderOutput(dataTable, element);\n",
              "          const docLink = document.createElement('div');\n",
              "          docLink.innerHTML = docLinkHtml;\n",
              "          element.appendChild(docLink);\n",
              "        }\n",
              "      </script>\n",
              "    </div>\n",
              "  </div>\n",
              "  "
            ]
          },
          "metadata": {},
          "execution_count": 15
        }
      ]
    },
    {
      "cell_type": "code",
      "metadata": {
        "colab": {
          "base_uri": "https://localhost:8080/",
          "height": 300
        },
        "id": "n_Rjt1qDX3AQ",
        "outputId": "8546920f-49e3-4dce-b6f1-8372baa69f89"
      },
      "source": [
        "new_dataset.tail()"
      ],
      "execution_count": null,
      "outputs": [
        {
          "output_type": "execute_result",
          "data": {
            "text/plain": [
              "       Time        V1        V2         V3        V4        V5        V6  \\\n",
              "8296  11080 -2.125490  5.973556 -11.034727  9.007147 -1.689451 -2.854415   \n",
              "8312  11092  0.378275  3.914797  -5.726872  6.094141  1.698875 -2.807314   \n",
              "8335  11131 -1.426623  4.141986  -9.804103  6.666273 -4.749527 -2.073129   \n",
              "8615  11629 -3.891192  7.098916 -11.426467  8.607557 -2.065706 -2.985288   \n",
              "8617  11635  0.919137  4.199633  -7.535607  7.426940  1.118215 -2.886722   \n",
              "\n",
              "             V7        V8        V9  ...       V21       V22       V23  \\\n",
              "8296  -7.810441  2.030870 -5.902828  ...  1.646518 -0.278485 -0.664841   \n",
              "8312  -0.591118 -0.123496 -2.530713  ...  0.149896 -0.601967 -0.613724   \n",
              "8335 -10.089931  2.791345 -3.249516  ...  1.865679  0.407809  0.605809   \n",
              "8615  -8.138589  2.973928 -6.272790  ...  1.757085 -0.189709 -0.508629   \n",
              "8617  -1.341036  0.363933 -2.203224  ...  0.316094  0.055179  0.210692   \n",
              "\n",
              "           V24       V25       V26       V27       V28  Amount  Class  \n",
              "8296 -1.164555  1.701796  0.690806  2.119749  1.108933     1.0    1.0  \n",
              "8312 -0.403114  1.568445  0.521884  0.527938  0.411910     1.0    1.0  \n",
              "8335 -0.769348 -1.746337  0.502040  1.977258  0.711607     1.0    1.0  \n",
              "8615 -1.189308  1.188536  0.605242  1.881529  0.875260     1.0    1.0  \n",
              "8617 -0.417918 -0.911188  0.466524  0.627393  0.157851     1.0    1.0  \n",
              "\n",
              "[5 rows x 31 columns]"
            ],
            "text/html": [
              "\n",
              "  <div id=\"df-5a6a6356-03cf-4010-b005-065a8ea0a137\">\n",
              "    <div class=\"colab-df-container\">\n",
              "      <div>\n",
              "<style scoped>\n",
              "    .dataframe tbody tr th:only-of-type {\n",
              "        vertical-align: middle;\n",
              "    }\n",
              "\n",
              "    .dataframe tbody tr th {\n",
              "        vertical-align: top;\n",
              "    }\n",
              "\n",
              "    .dataframe thead th {\n",
              "        text-align: right;\n",
              "    }\n",
              "</style>\n",
              "<table border=\"1\" class=\"dataframe\">\n",
              "  <thead>\n",
              "    <tr style=\"text-align: right;\">\n",
              "      <th></th>\n",
              "      <th>Time</th>\n",
              "      <th>V1</th>\n",
              "      <th>V2</th>\n",
              "      <th>V3</th>\n",
              "      <th>V4</th>\n",
              "      <th>V5</th>\n",
              "      <th>V6</th>\n",
              "      <th>V7</th>\n",
              "      <th>V8</th>\n",
              "      <th>V9</th>\n",
              "      <th>...</th>\n",
              "      <th>V21</th>\n",
              "      <th>V22</th>\n",
              "      <th>V23</th>\n",
              "      <th>V24</th>\n",
              "      <th>V25</th>\n",
              "      <th>V26</th>\n",
              "      <th>V27</th>\n",
              "      <th>V28</th>\n",
              "      <th>Amount</th>\n",
              "      <th>Class</th>\n",
              "    </tr>\n",
              "  </thead>\n",
              "  <tbody>\n",
              "    <tr>\n",
              "      <th>8296</th>\n",
              "      <td>11080</td>\n",
              "      <td>-2.125490</td>\n",
              "      <td>5.973556</td>\n",
              "      <td>-11.034727</td>\n",
              "      <td>9.007147</td>\n",
              "      <td>-1.689451</td>\n",
              "      <td>-2.854415</td>\n",
              "      <td>-7.810441</td>\n",
              "      <td>2.030870</td>\n",
              "      <td>-5.902828</td>\n",
              "      <td>...</td>\n",
              "      <td>1.646518</td>\n",
              "      <td>-0.278485</td>\n",
              "      <td>-0.664841</td>\n",
              "      <td>-1.164555</td>\n",
              "      <td>1.701796</td>\n",
              "      <td>0.690806</td>\n",
              "      <td>2.119749</td>\n",
              "      <td>1.108933</td>\n",
              "      <td>1.0</td>\n",
              "      <td>1.0</td>\n",
              "    </tr>\n",
              "    <tr>\n",
              "      <th>8312</th>\n",
              "      <td>11092</td>\n",
              "      <td>0.378275</td>\n",
              "      <td>3.914797</td>\n",
              "      <td>-5.726872</td>\n",
              "      <td>6.094141</td>\n",
              "      <td>1.698875</td>\n",
              "      <td>-2.807314</td>\n",
              "      <td>-0.591118</td>\n",
              "      <td>-0.123496</td>\n",
              "      <td>-2.530713</td>\n",
              "      <td>...</td>\n",
              "      <td>0.149896</td>\n",
              "      <td>-0.601967</td>\n",
              "      <td>-0.613724</td>\n",
              "      <td>-0.403114</td>\n",
              "      <td>1.568445</td>\n",
              "      <td>0.521884</td>\n",
              "      <td>0.527938</td>\n",
              "      <td>0.411910</td>\n",
              "      <td>1.0</td>\n",
              "      <td>1.0</td>\n",
              "    </tr>\n",
              "    <tr>\n",
              "      <th>8335</th>\n",
              "      <td>11131</td>\n",
              "      <td>-1.426623</td>\n",
              "      <td>4.141986</td>\n",
              "      <td>-9.804103</td>\n",
              "      <td>6.666273</td>\n",
              "      <td>-4.749527</td>\n",
              "      <td>-2.073129</td>\n",
              "      <td>-10.089931</td>\n",
              "      <td>2.791345</td>\n",
              "      <td>-3.249516</td>\n",
              "      <td>...</td>\n",
              "      <td>1.865679</td>\n",
              "      <td>0.407809</td>\n",
              "      <td>0.605809</td>\n",
              "      <td>-0.769348</td>\n",
              "      <td>-1.746337</td>\n",
              "      <td>0.502040</td>\n",
              "      <td>1.977258</td>\n",
              "      <td>0.711607</td>\n",
              "      <td>1.0</td>\n",
              "      <td>1.0</td>\n",
              "    </tr>\n",
              "    <tr>\n",
              "      <th>8615</th>\n",
              "      <td>11629</td>\n",
              "      <td>-3.891192</td>\n",
              "      <td>7.098916</td>\n",
              "      <td>-11.426467</td>\n",
              "      <td>8.607557</td>\n",
              "      <td>-2.065706</td>\n",
              "      <td>-2.985288</td>\n",
              "      <td>-8.138589</td>\n",
              "      <td>2.973928</td>\n",
              "      <td>-6.272790</td>\n",
              "      <td>...</td>\n",
              "      <td>1.757085</td>\n",
              "      <td>-0.189709</td>\n",
              "      <td>-0.508629</td>\n",
              "      <td>-1.189308</td>\n",
              "      <td>1.188536</td>\n",
              "      <td>0.605242</td>\n",
              "      <td>1.881529</td>\n",
              "      <td>0.875260</td>\n",
              "      <td>1.0</td>\n",
              "      <td>1.0</td>\n",
              "    </tr>\n",
              "    <tr>\n",
              "      <th>8617</th>\n",
              "      <td>11635</td>\n",
              "      <td>0.919137</td>\n",
              "      <td>4.199633</td>\n",
              "      <td>-7.535607</td>\n",
              "      <td>7.426940</td>\n",
              "      <td>1.118215</td>\n",
              "      <td>-2.886722</td>\n",
              "      <td>-1.341036</td>\n",
              "      <td>0.363933</td>\n",
              "      <td>-2.203224</td>\n",
              "      <td>...</td>\n",
              "      <td>0.316094</td>\n",
              "      <td>0.055179</td>\n",
              "      <td>0.210692</td>\n",
              "      <td>-0.417918</td>\n",
              "      <td>-0.911188</td>\n",
              "      <td>0.466524</td>\n",
              "      <td>0.627393</td>\n",
              "      <td>0.157851</td>\n",
              "      <td>1.0</td>\n",
              "      <td>1.0</td>\n",
              "    </tr>\n",
              "  </tbody>\n",
              "</table>\n",
              "<p>5 rows × 31 columns</p>\n",
              "</div>\n",
              "      <button class=\"colab-df-convert\" onclick=\"convertToInteractive('df-5a6a6356-03cf-4010-b005-065a8ea0a137')\"\n",
              "              title=\"Convert this dataframe to an interactive table.\"\n",
              "              style=\"display:none;\">\n",
              "        \n",
              "  <svg xmlns=\"http://www.w3.org/2000/svg\" height=\"24px\"viewBox=\"0 0 24 24\"\n",
              "       width=\"24px\">\n",
              "    <path d=\"M0 0h24v24H0V0z\" fill=\"none\"/>\n",
              "    <path d=\"M18.56 5.44l.94 2.06.94-2.06 2.06-.94-2.06-.94-.94-2.06-.94 2.06-2.06.94zm-11 1L8.5 8.5l.94-2.06 2.06-.94-2.06-.94L8.5 2.5l-.94 2.06-2.06.94zm10 10l.94 2.06.94-2.06 2.06-.94-2.06-.94-.94-2.06-.94 2.06-2.06.94z\"/><path d=\"M17.41 7.96l-1.37-1.37c-.4-.4-.92-.59-1.43-.59-.52 0-1.04.2-1.43.59L10.3 9.45l-7.72 7.72c-.78.78-.78 2.05 0 2.83L4 21.41c.39.39.9.59 1.41.59.51 0 1.02-.2 1.41-.59l7.78-7.78 2.81-2.81c.8-.78.8-2.07 0-2.86zM5.41 20L4 18.59l7.72-7.72 1.47 1.35L5.41 20z\"/>\n",
              "  </svg>\n",
              "      </button>\n",
              "      \n",
              "  <style>\n",
              "    .colab-df-container {\n",
              "      display:flex;\n",
              "      flex-wrap:wrap;\n",
              "      gap: 12px;\n",
              "    }\n",
              "\n",
              "    .colab-df-convert {\n",
              "      background-color: #E8F0FE;\n",
              "      border: none;\n",
              "      border-radius: 50%;\n",
              "      cursor: pointer;\n",
              "      display: none;\n",
              "      fill: #1967D2;\n",
              "      height: 32px;\n",
              "      padding: 0 0 0 0;\n",
              "      width: 32px;\n",
              "    }\n",
              "\n",
              "    .colab-df-convert:hover {\n",
              "      background-color: #E2EBFA;\n",
              "      box-shadow: 0px 1px 2px rgba(60, 64, 67, 0.3), 0px 1px 3px 1px rgba(60, 64, 67, 0.15);\n",
              "      fill: #174EA6;\n",
              "    }\n",
              "\n",
              "    [theme=dark] .colab-df-convert {\n",
              "      background-color: #3B4455;\n",
              "      fill: #D2E3FC;\n",
              "    }\n",
              "\n",
              "    [theme=dark] .colab-df-convert:hover {\n",
              "      background-color: #434B5C;\n",
              "      box-shadow: 0px 1px 3px 1px rgba(0, 0, 0, 0.15);\n",
              "      filter: drop-shadow(0px 1px 2px rgba(0, 0, 0, 0.3));\n",
              "      fill: #FFFFFF;\n",
              "    }\n",
              "  </style>\n",
              "\n",
              "      <script>\n",
              "        const buttonEl =\n",
              "          document.querySelector('#df-5a6a6356-03cf-4010-b005-065a8ea0a137 button.colab-df-convert');\n",
              "        buttonEl.style.display =\n",
              "          google.colab.kernel.accessAllowed ? 'block' : 'none';\n",
              "\n",
              "        async function convertToInteractive(key) {\n",
              "          const element = document.querySelector('#df-5a6a6356-03cf-4010-b005-065a8ea0a137');\n",
              "          const dataTable =\n",
              "            await google.colab.kernel.invokeFunction('convertToInteractive',\n",
              "                                                     [key], {});\n",
              "          if (!dataTable) return;\n",
              "\n",
              "          const docLinkHtml = 'Like what you see? Visit the ' +\n",
              "            '<a target=\"_blank\" href=https://colab.research.google.com/notebooks/data_table.ipynb>data table notebook</a>'\n",
              "            + ' to learn more about interactive tables.';\n",
              "          element.innerHTML = '';\n",
              "          dataTable['output_type'] = 'display_data';\n",
              "          await google.colab.output.renderOutput(dataTable, element);\n",
              "          const docLink = document.createElement('div');\n",
              "          docLink.innerHTML = docLinkHtml;\n",
              "          element.appendChild(docLink);\n",
              "        }\n",
              "      </script>\n",
              "    </div>\n",
              "  </div>\n",
              "  "
            ]
          },
          "metadata": {},
          "execution_count": 16
        }
      ]
    },
    {
      "cell_type": "code",
      "metadata": {
        "colab": {
          "base_uri": "https://localhost:8080/"
        },
        "id": "bFsRcj0gX-3M",
        "outputId": "ce6c92d5-0a6e-4743-b574-f99b7cafbadc"
      },
      "source": [
        "new_dataset['Class'].value_counts()"
      ],
      "execution_count": null,
      "outputs": [
        {
          "output_type": "execute_result",
          "data": {
            "text/plain": [
              "0.0    492\n",
              "1.0     30\n",
              "Name: Class, dtype: int64"
            ]
          },
          "metadata": {},
          "execution_count": 17
        }
      ]
    },
    {
      "cell_type": "code",
      "source": [
        "pd.value_counts(new_dataset['Class']).plot()"
      ],
      "metadata": {
        "id": "HA7OwoZaYjBL",
        "outputId": "7a027795-3f6d-4b79-a5ef-e8575ccc40ff",
        "colab": {
          "base_uri": "https://localhost:8080/",
          "height": 447
        }
      },
      "execution_count": null,
      "outputs": [
        {
          "output_type": "execute_result",
          "data": {
            "text/plain": [
              "<Axes: >"
            ]
          },
          "metadata": {},
          "execution_count": 32
        },
        {
          "output_type": "display_data",
          "data": {
            "text/plain": [
              "<Figure size 640x480 with 1 Axes>"
            ],
            "image/png": "[encoded data removed]"
          },
          "metadata": {}
        }
      ]
    },
    {
      "cell_type": "code",
      "source": [
        "pd.value_counts(new_dataset['Class']).plot.bar()"
      ],
      "metadata": {
        "id": "5p5LPyqoYtZ5",
        "outputId": "d786a023-5a9b-4816-d719-030c30a241e3",
        "colab": {
          "base_uri": "https://localhost:8080/",
          "height": 455
        }
      },
      "execution_count": null,
      "outputs": [
        {
          "output_type": "execute_result",
          "data": {
            "text/plain": [
              "<Axes: >"
            ]
          },
          "metadata": {},
          "execution_count": 33
        },
        {
          "output_type": "display_data",
          "data": {
            "text/plain": [
              "<Figure size 640x480 with 1 Axes>"
            ],
            "image/png": "[encoded data removed]"
          },
          "metadata": {}
        }
      ]
    },
    {
      "cell_type": "code",
      "metadata": {
        "colab": {
          "base_uri": "https://localhost:8080/",
          "height": 237
        },
        "id": "jan1xMeWYLrM",
        "outputId": "8b2cc495-4f73-4fd7-ca37-b07df565ab50"
      },
      "source": [
        "new_dataset.groupby('Class').mean()"
      ],
      "execution_count": null,
      "outputs": [
        {
          "output_type": "execute_result",
          "data": {
            "text/plain": [
              "              Time        V1        V2        V3        V4        V5  \\\n",
              "Class                                                                  \n",
              "0.0    5008.371951 -0.188386  0.312610  0.904809  0.303082  0.038153   \n",
              "1.0    8018.266667 -1.166570  3.286696 -5.482274  5.085269 -0.719672   \n",
              "\n",
              "             V6        V7        V8        V9  ...       V20       V21  \\\n",
              "Class                                          ...                       \n",
              "0.0    0.220250  0.002477  0.002273  0.755946  ...  0.032462 -0.034325   \n",
              "1.0   -2.080676 -2.767707  0.807816 -1.990289  ...  0.394607  0.519188   \n",
              "\n",
              "            V22       V23       V24       V25       V26       V27       V28  \\\n",
              "Class                                                                         \n",
              "0.0   -0.187486 -0.054760  0.062643  0.097595  0.064804  0.023029  0.000679   \n",
              "1.0   -0.241668 -0.129442 -0.284319  0.116275  0.307045  0.589117  0.306852   \n",
              "\n",
              "          Amount  \n",
              "Class             \n",
              "0.0    63.249207  \n",
              "1.0    88.757000  \n",
              "\n",
              "[2 rows x 30 columns]"
            ],
            "text/html": [
              "\n",
              "  <div id=\"df-96f941d9-6e91-48d2-9bd7-a7ff874225c2\">\n",
              "    <div class=\"colab-df-container\">\n",
              "      <div>\n",
              "<style scoped>\n",
              "    .dataframe tbody tr th:only-of-type {\n",
              "        vertical-align: middle;\n",
              "    }\n",
              "\n",
              "    .dataframe tbody tr th {\n",
              "        vertical-align: top;\n",
              "    }\n",
              "\n",
              "    .dataframe thead th {\n",
              "        text-align: right;\n",
              "    }\n",
              "</style>\n",
              "<table border=\"1\" class=\"dataframe\">\n",
              "  <thead>\n",
              "    <tr style=\"text-align: right;\">\n",
              "      <th></th>\n",
              "      <th>Time</th>\n",
              "      <th>V1</th>\n",
              "      <th>V2</th>\n",
              "      <th>V3</th>\n",
              "      <th>V4</th>\n",
              "      <th>V5</th>\n",
              "      <th>V6</th>\n",
              "      <th>V7</th>\n",
              "      <th>V8</th>\n",
              "      <th>V9</th>\n",
              "      <th>...</th>\n",
              "      <th>V20</th>\n",
              "      <th>V21</th>\n",
              "      <th>V22</th>\n",
              "      <th>V23</th>\n",
              "      <th>V24</th>\n",
              "      <th>V25</th>\n",
              "      <th>V26</th>\n",
              "      <th>V27</th>\n",
              "      <th>V28</th>\n",
              "      <th>Amount</th>\n",
              "    </tr>\n",
              "    <tr>\n",
              "      <th>Class</th>\n",
              "      <th></th>\n",
              "      <th></th>\n",
              "      <th></th>\n",
              "      <th></th>\n",
              "      <th></th>\n",
              "      <th></th>\n",
              "      <th></th>\n",
              "      <th></th>\n",
              "      <th></th>\n",
              "      <th></th>\n",
              "      <th></th>\n",
              "      <th></th>\n",
              "      <th></th>\n",
              "      <th></th>\n",
              "      <th></th>\n",
              "      <th></th>\n",
              "      <th></th>\n",
              "      <th></th>\n",
              "      <th></th>\n",
              "      <th></th>\n",
              "      <th></th>\n",
              "    </tr>\n",
              "  </thead>\n",
              "  <tbody>\n",
              "    <tr>\n",
              "      <th>0.0</th>\n",
              "      <td>5008.371951</td>\n",
              "      <td>-0.188386</td>\n",
              "      <td>0.312610</td>\n",
              "      <td>0.904809</td>\n",
              "      <td>0.303082</td>\n",
              "      <td>0.038153</td>\n",
              "      <td>0.220250</td>\n",
              "      <td>0.002477</td>\n",
              "      <td>0.002273</td>\n",
              "      <td>0.755946</td>\n",
              "      <td>...</td>\n",
              "      <td>0.032462</td>\n",
              "      <td>-0.034325</td>\n",
              "      <td>-0.187486</td>\n",
              "      <td>-0.054760</td>\n",
              "      <td>0.062643</td>\n",
              "      <td>0.097595</td>\n",
              "      <td>0.064804</td>\n",
              "      <td>0.023029</td>\n",
              "      <td>0.000679</td>\n",
              "      <td>63.249207</td>\n",
              "    </tr>\n",
              "    <tr>\n",
              "      <th>1.0</th>\n",
              "      <td>8018.266667</td>\n",
              "      <td>-1.166570</td>\n",
              "      <td>3.286696</td>\n",
              "      <td>-5.482274</td>\n",
              "      <td>5.085269</td>\n",
              "      <td>-0.719672</td>\n",
              "      <td>-2.080676</td>\n",
              "      <td>-2.767707</td>\n",
              "      <td>0.807816</td>\n",
              "      <td>-1.990289</td>\n",
              "      <td>...</td>\n",
              "      <td>0.394607</td>\n",
              "      <td>0.519188</td>\n",
              "      <td>-0.241668</td>\n",
              "      <td>-0.129442</td>\n",
              "      <td>-0.284319</td>\n",
              "      <td>0.116275</td>\n",
              "      <td>0.307045</td>\n",
              "      <td>0.589117</td>\n",
              "      <td>0.306852</td>\n",
              "      <td>88.757000</td>\n",
              "    </tr>\n",
              "  </tbody>\n",
              "</table>\n",
              "<p>2 rows × 30 columns</p>\n",
              "</div>\n",
              "      <button class=\"colab-df-convert\" onclick=\"convertToInteractive('df-96f941d9-6e91-48d2-9bd7-a7ff874225c2')\"\n",
              "              title=\"Convert this dataframe to an interactive table.\"\n",
              "              style=\"display:none;\">\n",
              "        \n",
              "  <svg xmlns=\"http://www.w3.org/2000/svg\" height=\"24px\"viewBox=\"0 0 24 24\"\n",
              "       width=\"24px\">\n",
              "    <path d=\"M0 0h24v24H0V0z\" fill=\"none\"/>\n",
              "    <path d=\"M18.56 5.44l.94 2.06.94-2.06 2.06-.94-2.06-.94-.94-2.06-.94 2.06-2.06.94zm-11 1L8.5 8.5l.94-2.06 2.06-.94-2.06-.94L8.5 2.5l-.94 2.06-2.06.94zm10 10l.94 2.06.94-2.06 2.06-.94-2.06-.94-.94-2.06-.94 2.06-2.06.94z\"/><path d=\"M17.41 7.96l-1.37-1.37c-.4-.4-.92-.59-1.43-.59-.52 0-1.04.2-1.43.59L10.3 9.45l-7.72 7.72c-.78.78-.78 2.05 0 2.83L4 21.41c.39.39.9.59 1.41.59.51 0 1.02-.2 1.41-.59l7.78-7.78 2.81-2.81c.8-.78.8-2.07 0-2.86zM5.41 20L4 18.59l7.72-7.72 1.47 1.35L5.41 20z\"/>\n",
              "  </svg>\n",
              "      </button>\n",
              "      \n",
              "  <style>\n",
              "    .colab-df-container {\n",
              "      display:flex;\n",
              "      flex-wrap:wrap;\n",
              "      gap: 12px;\n",
              "    }\n",
              "\n",
              "    .colab-df-convert {\n",
              "      background-color: #E8F0FE;\n",
              "      border: none;\n",
              "      border-radius: 50%;\n",
              "      cursor: pointer;\n",
              "      display: none;\n",
              "      fill: #1967D2;\n",
              "      height: 32px;\n",
              "      padding: 0 0 0 0;\n",
              "      width: 32px;\n",
              "    }\n",
              "\n",
              "    .colab-df-convert:hover {\n",
              "      background-color: #E2EBFA;\n",
              "      box-shadow: 0px 1px 2px rgba(60, 64, 67, 0.3), 0px 1px 3px 1px rgba(60, 64, 67, 0.15);\n",
              "      fill: #174EA6;\n",
              "    }\n",
              "\n",
              "    [theme=dark] .colab-df-convert {\n",
              "      background-color: #3B4455;\n",
              "      fill: #D2E3FC;\n",
              "    }\n",
              "\n",
              "    [theme=dark] .colab-df-convert:hover {\n",
              "      background-color: #434B5C;\n",
              "      box-shadow: 0px 1px 3px 1px rgba(0, 0, 0, 0.15);\n",
              "      filter: drop-shadow(0px 1px 2px rgba(0, 0, 0, 0.3));\n",
              "      fill: #FFFFFF;\n",
              "    }\n",
              "  </style>\n",
              "\n",
              "      <script>\n",
              "        const buttonEl =\n",
              "          document.querySelector('#df-96f941d9-6e91-48d2-9bd7-a7ff874225c2 button.colab-df-convert');\n",
              "        buttonEl.style.display =\n",
              "          google.colab.kernel.accessAllowed ? 'block' : 'none';\n",
              "\n",
              "        async function convertToInteractive(key) {\n",
              "          const element = document.querySelector('#df-96f941d9-6e91-48d2-9bd7-a7ff874225c2');\n",
              "          const dataTable =\n",
              "            await google.colab.kernel.invokeFunction('convertToInteractive',\n",
              "                                                     [key], {});\n",
              "          if (!dataTable) return;\n",
              "\n",
              "          const docLinkHtml = 'Like what you see? Visit the ' +\n",
              "            '<a target=\"_blank\" href=https://colab.research.google.com/notebooks/data_table.ipynb>data table notebook</a>'\n",
              "            + ' to learn more about interactive tables.';\n",
              "          element.innerHTML = '';\n",
              "          dataTable['output_type'] = 'display_data';\n",
              "          await google.colab.output.renderOutput(dataTable, element);\n",
              "          const docLink = document.createElement('div');\n",
              "          docLink.innerHTML = docLinkHtml;\n",
              "          element.appendChild(docLink);\n",
              "        }\n",
              "      </script>\n",
              "    </div>\n",
              "  </div>\n",
              "  "
            ]
          },
          "metadata": {},
          "execution_count": 18
        }
      ]
    },
    {
      "cell_type": "markdown",
      "metadata": {
        "id": "wbe0g12oYhyK"
      },
      "source": [
        "Splitting the data into Features & Targets"
      ]
    },
    {
      "cell_type": "code",
      "metadata": {
        "id": "oiC0OOyUYUoD"
      },
      "source": [
        "X = new_dataset.drop(columns='Class', axis=1)\n",
        "Y = new_dataset['Class']"
      ],
      "execution_count": null,
      "outputs": []
    },
    {
      "cell_type": "code",
      "metadata": {
        "colab": {
          "base_uri": "https://localhost:8080/"
        },
        "id": "9u7wbWqzYyrI",
        "outputId": "8c4d94f2-1667-490f-aa5e-445da66a8717"
      },
      "source": [
        "print(X)"
      ],
      "execution_count": null,
      "outputs": [
        {
          "output_type": "stream",
          "name": "stdout",
          "text": [
            "       Time        V1        V2         V3        V4        V5        V6  \\\n",
            "5027   4636  0.664729 -0.638774  -0.258216  1.243438  0.194268  0.690724   \n",
            "4897   4431  1.159266 -0.068184   0.522080  1.340043  0.178743  1.401810   \n",
            "5871   6398 -2.380210 -0.266473   1.090077  0.853215  3.371780  3.790719   \n",
            "6023   6781  0.946724 -0.811320   0.265932 -0.817474 -0.980097 -0.981556   \n",
            "1993   1531 -2.844709  2.734210  -0.499037 -1.034623 -0.776265 -0.668750   \n",
            "...     ...       ...       ...        ...       ...       ...       ...   \n",
            "8296  11080 -2.125490  5.973556 -11.034727  9.007147 -1.689451 -2.854415   \n",
            "8312  11092  0.378275  3.914797  -5.726872  6.094141  1.698875 -2.807314   \n",
            "8335  11131 -1.426623  4.141986  -9.804103  6.666273 -4.749527 -2.073129   \n",
            "8615  11629 -3.891192  7.098916 -11.426467  8.607557 -2.065706 -2.985288   \n",
            "8617  11635  0.919137  4.199633  -7.535607  7.426940  1.118215 -2.886722   \n",
            "\n",
            "             V7        V8        V9  ...       V20       V21       V22  \\\n",
            "5027   0.196727  0.072999  1.181640  ...  0.353152 -0.159994 -0.921783   \n",
            "4897  -0.632770  0.350461  2.064474  ... -0.208210 -0.273400 -0.235403   \n",
            "5871  -1.123674  0.941963  1.236974  ... -0.671187 -0.306571 -0.514617   \n",
            "6023   0.001164 -0.364284  2.911724  ...  0.268986 -0.122531 -0.137021   \n",
            "1993  -0.356853  1.313071  0.591929  ...  0.536069 -0.289244 -0.643686   \n",
            "...         ...       ...       ...  ...       ...       ...       ...   \n",
            "8296  -7.810441  2.030870 -5.902828  ...  1.493775  1.646518 -0.278485   \n",
            "8312  -0.591118 -0.123496 -2.530713  ...  0.440439  0.149896 -0.601967   \n",
            "8335 -10.089931  2.791345 -3.249516  ...  1.410678  1.865679  0.407809   \n",
            "8615  -8.138589  2.973928 -6.272790  ...  1.382619  1.757085 -0.189709   \n",
            "8617  -1.341036  0.363933 -2.203224  ...  0.535435  0.316094  0.055179   \n",
            "\n",
            "           V23       V24       V25       V26       V27       V28  Amount  \n",
            "5027 -0.310798 -1.251307  0.350796 -0.517858 -0.060657  0.042954  296.44  \n",
            "4897 -0.236655 -1.368112  0.718796 -0.229859  0.036269 -0.007499   15.00  \n",
            "5871 -0.443708  0.962374  0.088245 -0.280859 -0.635895  0.616903    0.00  \n",
            "6023 -0.276956  0.424674  0.619433 -0.002015 -0.038106  0.037535  187.14  \n",
            "1993  0.027395 -0.432674  0.296821  0.376164  0.556133  0.352268    1.00  \n",
            "...        ...       ...       ...       ...       ...       ...     ...  \n",
            "8296 -0.664841 -1.164555  1.701796  0.690806  2.119749  1.108933    1.00  \n",
            "8312 -0.613724 -0.403114  1.568445  0.521884  0.527938  0.411910    1.00  \n",
            "8335  0.605809 -0.769348 -1.746337  0.502040  1.977258  0.711607    1.00  \n",
            "8615 -0.508629 -1.189308  1.188536  0.605242  1.881529  0.875260    1.00  \n",
            "8617  0.210692 -0.417918 -0.911188  0.466524  0.627393  0.157851    1.00  \n",
            "\n",
            "[522 rows x 30 columns]\n"
          ]
        }
      ]
    },
    {
      "cell_type": "code",
      "metadata": {
        "colab": {
          "base_uri": "https://localhost:8080/"
        },
        "id": "EHnRPzZvYz-F",
        "outputId": "8886e6f0-899e-4e8c-c9e0-3b39e8f3a19d"
      },
      "source": [
        "print(Y)"
      ],
      "execution_count": null,
      "outputs": [
        {
          "output_type": "stream",
          "name": "stdout",
          "text": [
            "5027    0.0\n",
            "4897    0.0\n",
            "5871    0.0\n",
            "6023    0.0\n",
            "1993    0.0\n",
            "       ... \n",
            "8296    1.0\n",
            "8312    1.0\n",
            "8335    1.0\n",
            "8615    1.0\n",
            "8617    1.0\n",
            "Name: Class, Length: 522, dtype: float64\n"
          ]
        }
      ]
    },
    {
      "cell_type": "markdown",
      "metadata": {
        "id": "78wEbV41Y6j3"
      },
      "source": [
        "Split the data into Training data & Testing Data"
      ]
    },
    {
      "cell_type": "code",
      "metadata": {
        "id": "FrsqqwT0Y3n5"
      },
      "source": [
        "X_train, X_test, Y_train, Y_test = train_test_split(X, Y, test_size=0.2, stratify=Y, random_state=2)"
      ],
      "execution_count": null,
      "outputs": []
    },
    {
      "cell_type": "code",
      "metadata": {
        "colab": {
          "base_uri": "https://localhost:8080/"
        },
        "id": "FUmwXz99ZuvK",
        "outputId": "1e62efd7-7e13-423a-fc00-efc215ad21a3"
      },
      "source": [
        "print(X.shape, X_train.shape, X_test.shape)"
      ],
      "execution_count": null,
      "outputs": [
        {
          "output_type": "stream",
          "name": "stdout",
          "text": [
            "(522, 30) (417, 30) (105, 30)\n"
          ]
        }
      ]
    },
    {
      "cell_type": "markdown",
      "metadata": {
        "id": "aowgjqbeZ7d1"
      },
      "source": [
        "Model Training"
      ]
    },
    {
      "cell_type": "markdown",
      "metadata": {
        "id": "i0NkjaxyZ96E"
      },
      "source": [
        "Logistic Regression"
      ]
    },
    {
      "cell_type": "code",
      "metadata": {
        "id": "i0HHd1v8Z2Mq"
      },
      "source": [
        "model = LogisticRegression()"
      ],
      "execution_count": null,
      "outputs": []
    },
    {
      "cell_type": "code",
      "metadata": {
        "colab": {
          "base_uri": "https://localhost:8080/",
          "height": 234
        },
        "id": "_rshSouvaGrv",
        "outputId": "195f08a8-65e1-4561-f7d0-e772627e2b26"
      },
      "source": [
        "# training the Logistic Regression Model with Training Data\n",
        "model.fit(X_train, Y_train)"
      ],
      "execution_count": null,
      "outputs": [
        {
          "output_type": "stream",
          "name": "stderr",
          "text": [
            "/usr/local/lib/python3.10/dist-packages/sklearn/linear_model/_logistic.py:458: ConvergenceWarning: lbfgs failed to converge (status=1):\n",
            "STOP: TOTAL NO. of ITERATIONS REACHED LIMIT.\n",
            "\n",
            "Increase the number of iterations (max_iter) or scale the data as shown in:\n",
            "    https://scikit-learn.org/stable/modules/preprocessing.html\n",
            "Please also refer to the documentation for alternative solver options:\n",
            "    https://scikit-learn.org/stable/modules/linear_model.html#logistic-regression\n",
            "  n_iter_i = _check_optimize_result(\n"
          ]
        },
        {
          "output_type": "execute_result",
          "data": {
            "text/plain": [
              "LogisticRegression()"
            ],
            "text/html": [
              "<style>#sk-container-id-1 {color: black;background-color: white;}#sk-container-id-1 pre{padding: 0;}#sk-container-id-1 div.sk-toggleable {background-color: white;}#sk-container-id-1 label.sk-toggleable__label {cursor: pointer;display: block;width: 100%;margin-bottom: 0;padding: 0.3em;box-sizing: border-box;text-align: center;}#sk-container-id-1 label.sk-toggleable__label-arrow:before {content: \"▸\";float: left;margin-right: 0.25em;color: #696969;}#sk-container-id-1 label.sk-toggleable__label-arrow:hover:before {color: black;}#sk-container-id-1 div.sk-estimator:hover label.sk-toggleable__label-arrow:before {color: black;}#sk-container-id-1 div.sk-toggleable__content {max-height: 0;max-width: 0;overflow: hidden;text-align: left;background-color: #f0f8ff;}#sk-container-id-1 div.sk-toggleable__content pre {margin: 0.2em;color: black;border-radius: 0.25em;background-color: #f0f8ff;}#sk-container-id-1 input.sk-toggleable__control:checked~div.sk-toggleable__content {max-height: 200px;max-width: 100%;overflow: auto;}#sk-container-id-1 input.sk-toggleable__control:checked~label.sk-toggleable__label-arrow:before {content: \"▾\";}#sk-container-id-1 div.sk-estimator input.sk-toggleable__control:checked~label.sk-toggleable__label {background-color: #d4ebff;}#sk-container-id-1 div.sk-label input.sk-toggleable__control:checked~label.sk-toggleable__label {background-color: #d4ebff;}#sk-container-id-1 input.sk-hidden--visually {border: 0;clip: rect(1px 1px 1px 1px);clip: rect(1px, 1px, 1px, 1px);height: 1px;margin: -1px;overflow: hidden;padding: 0;position: absolute;width: 1px;}#sk-container-id-1 div.sk-estimator {font-family: monospace;background-color: #f0f8ff;border: 1px dotted black;border-radius: 0.25em;box-sizing: border-box;margin-bottom: 0.5em;}#sk-container-id-1 div.sk-estimator:hover {background-color: #d4ebff;}#sk-container-id-1 div.sk-parallel-item::after {content: \"\";width: 100%;border-bottom: 1px solid gray;flex-grow: 1;}#sk-container-id-1 div.sk-label:hover label.sk-toggleable__label {background-color: #d4ebff;}#sk-container-id-1 div.sk-serial::before {content: \"\";position: absolute;border-left: 1px solid gray;box-sizing: border-box;top: 0;bottom: 0;left: 50%;z-index: 0;}#sk-container-id-1 div.sk-serial {display: flex;flex-direction: column;align-items: center;background-color: white;padding-right: 0.2em;padding-left: 0.2em;position: relative;}#sk-container-id-1 div.sk-item {position: relative;z-index: 1;}#sk-container-id-1 div.sk-parallel {display: flex;align-items: stretch;justify-content: center;background-color: white;position: relative;}#sk-container-id-1 div.sk-item::before, #sk-container-id-1 div.sk-parallel-item::before {content: \"\";position: absolute;border-left: 1px solid gray;box-sizing: border-box;top: 0;bottom: 0;left: 50%;z-index: -1;}#sk-container-id-1 div.sk-parallel-item {display: flex;flex-direction: column;z-index: 1;position: relative;background-color: white;}#sk-container-id-1 div.sk-parallel-item:first-child::after {align-self: flex-end;width: 50%;}#sk-container-id-1 div.sk-parallel-item:last-child::after {align-self: flex-start;width: 50%;}#sk-container-id-1 div.sk-parallel-item:only-child::after {width: 0;}#sk-container-id-1 div.sk-dashed-wrapped {border: 1px dashed gray;margin: 0 0.4em 0.5em 0.4em;box-sizing: border-box;padding-bottom: 0.4em;background-color: white;}#sk-container-id-1 div.sk-label label {font-family: monospace;font-weight: bold;display: inline-block;line-height: 1.2em;}#sk-container-id-1 div.sk-label-container {text-align: center;}#sk-container-id-1 div.sk-container {/* jupyter's `normalize.less` sets `[hidden] { display: none; }` but bootstrap.min.css set `[hidden] { display: none !important; }` so we also need the `!important` here to be able to override the default hidden behavior on the sphinx rendered scikit-learn.org. See: https://github.com/scikit-learn/scikit-learn/issues/21755 */display: inline-block !important;position: relative;}#sk-container-id-1 div.sk-text-repr-fallback {display: none;}</style><div id=\"sk-container-id-1\" class=\"sk-top-container\"><div class=\"sk-text-repr-fallback\"><pre>LogisticRegression()</pre><b>In a Jupyter environment, please rerun this cell to show the HTML representation or trust the notebook. <br />On GitHub, the HTML representation is unable to render, please try loading this page with nbviewer.org.</b></div><div class=\"sk-container\" hidden><div class=\"sk-item\"><div class=\"sk-estimator sk-toggleable\"><input class=\"sk-toggleable__control sk-hidden--visually\" id=\"sk-estimator-id-1\" type=\"checkbox\" checked><label for=\"sk-estimator-id-1\" class=\"sk-toggleable__label sk-toggleable__label-arrow\">LogisticRegression</label><div class=\"sk-toggleable__content\"><pre>LogisticRegression()</pre></div></div></div></div></div>"
            ]
          },
          "metadata": {},
          "execution_count": 25
        }
      ]
    },
    {
      "cell_type": "markdown",
      "metadata": {
        "id": "H9FYWyKjalvC"
      },
      "source": [
        "Model Evaluation"
      ]
    },
    {
      "cell_type": "markdown",
      "metadata": {
        "id": "O6O6kbwYaoxH"
      },
      "source": [
        "Accuracy Score"
      ]
    },
    {
      "cell_type": "code",
      "metadata": {
        "id": "pC2kCJhOaage"
      },
      "source": [
        "# accuracy on training data\n",
        "X_train_prediction = model.predict(X_train)\n",
        "training_data_accuracy = accuracy_score(X_train_prediction, Y_train)"
      ],
      "execution_count": null,
      "outputs": []
    },
    {
      "cell_type": "code",
      "metadata": {
        "colab": {
          "base_uri": "https://localhost:8080/"
        },
        "id": "Ijq6gAevbDwm",
        "outputId": "d907f975-800d-47ec-8771-07197483d713"
      },
      "source": [
        "print('Accuracy on Training data : ', training_data_accuracy)"
      ],
      "execution_count": null,
      "outputs": [
        {
          "output_type": "stream",
          "name": "stdout",
          "text": [
            "Accuracy on Training data :  1.0\n"
          ]
        }
      ]
    },
    {
      "cell_type": "code",
      "metadata": {
        "id": "tryJUs6mbJM7"
      },
      "source": [
        "# accuracy on test data\n",
        "X_test_prediction = model.predict(X_test)\n",
        "test_data_accuracy = accuracy_score(X_test_prediction, Y_test)"
      ],
      "execution_count": null,
      "outputs": []
    },
    {
      "cell_type": "code",
      "metadata": {
        "colab": {
          "base_uri": "https://localhost:8080/"
        },
        "id": "lxEuN24ib3hS",
        "outputId": "4dfad7ac-7a45-4824-b943-7394de24e4b0"
      },
      "source": [
        "print('Accuracy score on Test Data : ', test_data_accuracy)"
      ],
      "execution_count": null,
      "outputs": [
        {
          "output_type": "stream",
          "name": "stdout",
          "text": [
            "Accuracy score on Test Data :  1.0\n"
          ]
        }
      ]
    },
    {
      "cell_type": "code",
      "source": [],
      "metadata": {
        "id": "Oi9lb2faYdEq"
      },
      "execution_count": null,
      "outputs": []
    }
  ]
}